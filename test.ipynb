{
 "cells": [
  {
   "cell_type": "code",
   "execution_count": null,
   "id": "44cc8953-b4b7-4c0f-afd4-d792a1743439",
   "metadata": {},
   "outputs": [],
   "source": [
    "pip install tensorflow==2.13.0 --quiet"
   ]
  },
  {
   "cell_type": "code",
   "execution_count": null,
   "id": "91835ea7-263a-4194-b33f-8331c3800251",
   "metadata": {},
   "outputs": [],
   "source": [
    "import boto3\n",
    "import sagemaker\n",
    "from sagemaker.tensorflow import TensorFlowModel\n",
    "from sagemaker import get_execution_role"
   ]
  },
  {
   "cell_type": "markdown",
   "id": "a82d19f9-0c9d-48af-bbaf-de4fb8a567c6",
   "metadata": {},
   "source": [
    "### Dummy model"
   ]
  },
  {
   "cell_type": "code",
   "execution_count": null,
   "id": "aec18d50-9f35-4286-bc35-309aae7a5fa4",
   "metadata": {},
   "outputs": [],
   "source": [
    "import tensorflow as tf\n",
    "model = tf.keras.Sequential([\n",
    "    tf.keras.layers.Dense(10, activation='relu', input_shape=(10,)),  # First hidden layer\n",
    "    tf.keras.layers.Dense(1, activation='sigmoid')  # Output layer with sigmoid activation\n",
    "])\n",
    "\n",
    "model.compile(optimizer='adam', loss='binary_crossentropy', metrics=['accuracy'])\n",
    "\n",
    "input_spec = tf.TensorSpec(shape=[None, 10], dtype=tf.float32, name='input')\n",
    "\n",
    "# Define a serving function with the appropriate input signature\n",
    "@tf.function(input_signature=[input_spec])\n",
    "def serve(features):\n",
    "    output = model(features, training=False)\n",
    "    return {'probability': output}  # Return a dictionary with the probability\n",
    "\n",
    "# Get the concrete function for serving\n",
    "concrete_serve_function = serve.get_concrete_function()\n",
    "\n",
    "\n",
    "# Define the export directory\n",
    "export_dir = 'simple_model/1/'\n",
    "\n",
    "# Save the model and the serving function\n",
    "model.save(export_dir, signatures={'serving_default': concrete_serve_function})\n"
   ]
  },
  {
   "cell_type": "markdown",
   "id": "b3fc9ce7-5870-4b01-ae03-95b2e53d8c8d",
   "metadata": {},
   "source": [
    "### package the model and save to a tar file"
   ]
  },
  {
   "cell_type": "code",
   "execution_count": null,
   "id": "a9bbacdd-2d4e-4e58-9b3f-c176761a87f4",
   "metadata": {},
   "outputs": [],
   "source": [
    "import tarfile\n",
    "\n",
    "def filter_checkpoints(tarinfo):\n",
    "    if \".ipynb_checkpoints\" in tarinfo.name:\n",
    "        return None\n",
    "    else:\n",
    "        return tarinfo\n",
    "\n",
    "with tarfile.open('simple_model.tar.gz', mode='w:gz') as archive:\n",
    "    archive.add('simple_model', recursive=True, filter=filter_checkpoints)"
   ]
  },
  {
   "cell_type": "markdown",
   "id": "5d09caf3-e526-447e-833b-9b7d7debdf3a",
   "metadata": {},
   "source": [
    "### upload and deploy"
   ]
  },
  {
   "cell_type": "code",
   "execution_count": null,
   "id": "85f09767-dd03-4a8c-9eb3-e64b0d38d2ab",
   "metadata": {},
   "outputs": [],
   "source": [
    "%%time\n",
    "sagemaker_session = sagemaker.Session()\n",
    "role = get_execution_role()\n",
    "model_path = 'simple_model.tar.gz'\n",
    "\n",
    "#upload model top s3\n",
    "uploaded = sagemaker_session.upload_data(path=model_path, key_prefix='models/')\n",
    "tensorflow_model = TensorFlowModel(entry_point='inference.py', model_data = uploaded, role=role, framework_version='2.13.0', source_dir='code1/')\n",
    "predictor = tensorflow_model.deploy(initial_instance_count=1, instance_type='ml.m4.xlarge')\n",
    "ENDPOINT = predictor.endpoint_name"
   ]
  },
  {
   "cell_type": "code",
   "execution_count": null,
   "id": "63fdd885-c74e-46bd-aefd-b46a99392001",
   "metadata": {},
   "outputs": [],
   "source": [
    "import boto3\n",
    "import json\n",
    "\n",
    "# Initialize the SageMaker runtime client\n",
    "client = boto3.client('sagemaker-runtime')\n",
    "\n",
    "# Endpoint name and the content type\n",
    "endpoint_name = ENDPOINT\n",
    "content_type = 'application/json'\n",
    "\n",
    "# Payload as a string\n",
    "payload = json.dumps({\"key\": \"data.json\"})\n",
    "\n",
    "# Invoke the endpoint\n",
    "response = client.invoke_endpoint(\n",
    "    EndpointName=endpoint_name,\n",
    "    ContentType=content_type,\n",
    "    Body=payload\n",
    ")\n",
    "\n",
    "# Read the response\n",
    "response_body = response['Body'].read()\n",
    "print(\"Response:\", json.loads(response_body))\n"
   ]
  }
 ],
 "metadata": {
  "kernelspec": {
   "display_name": "conda_tensorflow2_p310",
   "language": "python",
   "name": "conda_tensorflow2_p310"
  },
  "language_info": {
   "codemirror_mode": {
    "name": "ipython",
    "version": 3
   },
   "file_extension": ".py",
   "mimetype": "text/x-python",
   "name": "python",
   "nbconvert_exporter": "python",
   "pygments_lexer": "ipython3",
   "version": "3.10.14"
  }
 },
 "nbformat": 4,
 "nbformat_minor": 5
}
